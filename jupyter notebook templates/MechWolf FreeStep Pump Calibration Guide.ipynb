{
 "cells": [
  {
   "cell_type": "markdown",
   "metadata": {},
   "source": [
    "# FreeStep 3D Syringe Pump Calibration Guide\n",
    "\n",
    "This notebook provides step-by-step instructions for calibrating FreeStep 3D Syringe Pumps in MechWolf. Calibration is essential for accurate flow rate control and reproducible experimental results.\n",
    "\n",
    "## What You'll Need\n",
    "\n",
    "- FreeStep 3D Syringe Pump hardware connected via USB\n",
    "- Syringe(s) for calibration\n",
    "- Accurate scale for measuring dispensed liquid\n",
    "- Graduated cylinder or other vessel for collecting liquid\n",
    "- Water or other suitable calibration fluid"
   ]
  },
  {
   "cell_type": "code",
   "execution_count": null,
   "metadata": {},
   "outputs": [],
   "source": [
    "# Import the necessary modules\n",
    "import sys\n",
    "import os\n",
    "from pathlib import Path\n",
    "\n",
    "# Add the MechWolf directory to the path if needed\n",
    "mechwolf_path = Path.home() / \"MechWolf_dev\"\n",
    "if mechwolf_path.exists() and str(mechwolf_path) not in sys.path:\n",
    "    sys.path.append(str(mechwolf_path))\n",
    "\n",
    "# Import the calibration tool\n",
    "from mechwolf.components.contrib.calibration_3DSyringePumps_mLmin import JupyterCalibrationTool"
   ]
  },
  {
   "cell_type": "markdown",
   "metadata": {},
   "source": [
    "## Calibration Process Overview\n",
    "\n",
    "The calibration process involves several key steps:\n",
    "\n",
    "1. **Setup and Connection**: Connect your pump hardware and establish a serial connection.\n",
    "2. **Profile Management**: Create and manage MCU (Microcontroller Unit) and motor profiles.\n",
    "3. **Association**: Associate your motors with the appropriate MCU.\n",
    "4. **Calibration**: Run calibration trials to determine flow rate parameters.\n",
    "5. **Testing**: Verify calibration by testing at different flow rates.\n",
    "\n",
    "Let's start by launching the calibration tool."
   ]
  },
  {
   "cell_type": "code",
   "execution_count": null,
   "metadata": {},
   "outputs": [],
   "source": [
    "# Create and display the calibration tool interface\n",
    "tool = JupyterCalibrationTool()"
   ]
  },
  {
   "cell_type": "markdown",
   "metadata": {},
   "source": [
    "## Step 1: Connection Setup\n",
    "\n",
    "First, you need to establish a connection with your FreeStep pump hardware:\n",
    "\n",
    "1. Ensure your pump is connected via USB to your computer.\n",
    "2. Go to the **Connection** tab in the interface above.\n",
    "3. Click **Refresh Ports** to see available serial ports.\n",
    "4. Select your pump's port from the dropdown (typically COM# on Windows or /dev/tty* on Mac/Linux).\n",
    "5. Click **Connect** to establish the connection.\n",
    "\n",
    "The status output will confirm if the connection was successful."
   ]
  },
  {
   "cell_type": "markdown",
   "metadata": {},
   "source": [
    "## Step 2: Create MCU Profile\n",
    "\n",
    "An MCU (Microcontroller Unit) profile represents the Arduino or other microcontroller that controls your pump motors:\n",
    "\n",
    "1. Go to the **MCU Profiles** tab.\n",
    "2. Enter a descriptive name for your MCU (e.g., \"Arduino Uno Pump Controller\").\n",
    "3. Click **Add MCU Profile** to create it.\n",
    "\n",
    "You should see your new MCU profile appear in the list below. Each MCU is assigned a unique ID that will be used to identify it in your MechWolf protocols."
   ]
  },
  {
   "cell_type": "markdown",
   "metadata": {},
   "source": [
    "## Step 3: Create Motor Profile\n",
    "\n",
    "Motor profiles represent the individual stepper motors that drive your syringes:\n",
    "\n",
    "1. Go to the **Motor Profiles** tab.\n",
    "2. Enter a descriptive name for your motor (e.g., \"Syringe 1 Motor\").\n",
    "3. Click **Add Motor Button** to create it.\n",
    "\n",
    "Next, you need to associate this motor with an MCU and specify which pins control it:\n",
    "\n",
    "1. Under **Associate Motor with MCU**, select the motor you just created.\n",
    "2. Select the MCU you created earlier.\n",
    "3. Enter the step pin number (the Arduino pin connected to the stepper driver's STEP input).\n",
    "4. Enter the direction pin number (the Arduino pin connected to the stepper driver's DIR input).\n",
    "5. Click **Associate Motor with MCU**.\n",
    "\n",
    "The motor will now be listed as configured with your MCU in the \"Available Motor Profiles\" section."
   ]
  },
  {
   "cell_type": "markdown",
   "metadata": {},
   "source": [
    "## Step 4: Perform Calibration\n",
    "\n",
    "Calibration requires running the pump at two different speeds and measuring the actual dispensed volume:\n",
    "\n",
    "### Preparation:\n",
    "\n",
    "1. Fill your syringe with water or another suitable calibration fluid.\n",
    "2. Mount the syringe securely in your pump.\n",
    "3. Prepare a vessel to collect and measure the dispensed fluid (pre-weighed container on a scale works best).\n",
    "\n",
    "### Calibration Steps:\n",
    "\n",
    "1. Go to the **Calibration** tab.\n",
    "2. Select the motor you want to calibrate.\n",
    "3. Enter syringe information (required for accurate calibration):\n",
    "   - Brand/Manufacturer (e.g., \"BD\", \"Hamilton\")\n",
    "   - Model/Type (e.g., \"Plastic\", \"Glass Precision\")\n",
    "   - Volume in mL (e.g., \"10\" for a 10mL syringe)\n",
    "   - Inner Diameter in mm (check the manufacturer specifications)\n",
    "\n",
    "4. For the **First Calibration Trial**:\n",
    "   - Set a low frequency (e.g., 100 Hz) and reasonable duration (e.g., 10-30 seconds)\n",
    "   - Click **Run First Trial** to start dispensing\n",
    "   - After the run completes, measure the dispensed volume accurately\n",
    "   - Enter the measured volume (in mL) in the \"Volume (mL)\" field\n",
    "\n",
    "5. For the **Second Calibration Trial**:\n",
    "   - Set a higher frequency (e.g., 500 Hz) and the same duration\n",
    "   - Click **Run Second Trial** to start dispensing\n",
    "   - After the run completes, measure the dispensed volume accurately\n",
    "   - Enter the measured volume (in mL) in the \"Volume (mL)\" field\n",
    "\n",
    "6. Click **Calculate Calibration** to generate the calibration parameters\n",
    "\n",
    "The system will calculate the relationship between motor speed (frequency) and flow rate (mL/min) based on your two data points. The calibration results will be displayed and saved to the motor profile."
   ]
  },
  {
   "cell_type": "markdown",
   "metadata": {},
   "source": [
    "## Step 5: Test Your Calibration\n",
    "\n",
    "After calibration, verify that your pump operates at the expected flow rates:\n",
    "\n",
    "1. Go to the **Testing** tab.\n",
    "2. Select the MCU and motor you calibrated.\n",
    "3. Set a desired flow rate (mL/min) within the calculated min/max range.\n",
    "4. Choose direction (forward/backward) and duration.\n",
    "5. Click **Run Test** to start the test.\n",
    "\n",
    "For advanced testing, you can also:\n",
    "\n",
    "- Uncheck \"Use calibrated syringe data\" and enter a custom syringe diameter to see how the system compensates for different syringe sizes.\n",
    "- Review the \"Calibration Details\" panel that shows the calculations used to determine the motor speed.\n",
    "\n",
    "The system will automatically adjust the motor frequency based on your calibration and syringe parameters."
   ]
  },
  {
   "cell_type": "markdown",
   "metadata": {},
   "source": [
    "## Tips for Accurate Calibration\n",
    "\n",
    "1. **Measurement Accuracy**: Use a precise scale (0.01g or better) to weigh dispensed water. 1g of water equals approximately 1mL.\n",
    "\n",
    "2. **Multiple Trials**: For best results, you can run multiple calibrations and take the average.\n",
    "\n",
    "3. **Temperature Effects**: Be aware that fluid viscosity can change with temperature, affecting flow rates.\n",
    "\n",
    "4. **Syringe Specifications**: Always use the exact inner diameter of your syringe. Manufacturer specifications are usually more accurate than manual measurements.\n",
    "\n",
    "5. **Test Different Flow Rates**: After calibration, verify performance across the entire range of flow rates you plan to use.\n",
    "\n",
    "6. **Recalibrate Periodically**: Mechanical wear and other factors may change calibration over time. Recalibrate periodically for critical applications.\n",
    "\n",
    "7. **Different Fluids**: Calibration with water will be most accurate for aqueous solutions. Highly viscous or non-Newtonian fluids may require additional compensation."
   ]
  },
  {
   "cell_type": "markdown",
   "metadata": {},
   "source": [
    "## Using Calibrated Pumps in MechWolf Protocols\n",
    "\n",
    "Once calibrated, you can use your pump in MechWolf protocols. The Pump Code Generator (available in another notebook) can help you generate the initialization code.\n",
    "\n",
    "When setting up your protocol, you'll need:\n",
    "\n",
    "1. The MCU ID (displayed in the MCU Profiles tab)\n",
    "2. The Motor ID (displayed in the Motor Profiles tab)\n",
    "3. The port name used for connection\n",
    "\n",
    "Example code for a calibrated FreeStep pump:\n",
    "\n",
    "```python\n",
    "from mechwolf import FreeStepPump\n",
    "\n",
    "# Create a pump with your calibrated profiles\n",
    "pump = FreeStepPump(\n",
    "    name=\"my_pump\",\n",
    "    port=\"COM3\",\n",
    "    mcu_id=\"your_mcu_id_here\",\n",
    "    motor_id=\"your_motor_id_here\"\n",
    ")\n",
    "```\n",
    "\n",
    "Then, in your protocol, you can specify flow rates directly in mL/min:\n",
    "\n",
    "```python\n",
    "protocol.add([pump, vessel], rate=\"5 mL/min\", duration=\"2 minutes\")\n",
    "```"
   ]
  },
  {
   "cell_type": "markdown",
   "metadata": {},
   "source": [
    "## Cleaning Up\n",
    "\n",
    "When you're done with calibration, run the cleanup code below to properly close connections:"
   ]
  },
  {
   "cell_type": "code",
   "execution_count": null,
   "metadata": {},
   "outputs": [],
   "source": [
    "# Run this cell when you're done with calibration\n",
    "try:\n",
    "    tool.cleanup()\n",
    "    print(\"Calibration tool cleaned up successfully.\")\n",
    "except NameError:\n",
    "    print(\"Calibration tool not initialized. No cleanup required.\")"
   ]
  },
  {
   "cell_type": "markdown",
   "metadata": {},
   "source": [
    "## Troubleshooting\n",
    "\n",
    "### Connection Issues\n",
    "\n",
    "- **Port not found**: Make sure the device is plugged in and drivers are installed.\n",
    "- **Cannot connect**: Try restarting the device, or check if another program is using the port.\n",
    "- **Arduino not responding**: Verify the correct firmware is installed on your Arduino.\n",
    "\n",
    "### Calibration Issues\n",
    "\n",
    "- **Inconsistent measurements**: Check for air bubbles in the syringe or tubing.\n",
    "- **Motor not moving**: Verify pin assignments and electrical connections.\n",
    "- **Calculation errors**: Ensure you've entered accurate measurements for both trials.\n",
    "\n",
    "### Profile Management\n",
    "\n",
    "- **Cannot find saved profiles**: Profiles are stored in JSON files in the same directory as the calibration module.\n",
    "- **Changes not saving**: Ensure you click the appropriate 'Save' button after making changes.\n",
    "\n",
    "For additional support, please check the MechWolf documentation or contact the developers."
   ]
  }
 ],
 "metadata": {
  "kernelspec": {
   "display_name": "Python 3 (ipykernel)",
   "language": "python",
   "name": "python3"
  },
  "language_info": {
   "codemirror_mode": {
    "name": "ipython",
    "version": 3
   },
   "file_extension": ".py",
   "mimetype": "text/x-python",
   "name": "python",
   "nbconvert_exporter": "python",
   "pygments_lexer": "ipython3",
   "version": "3.7.1"
  }
 },
 "nbformat": 4,
 "nbformat_minor": 2
}
