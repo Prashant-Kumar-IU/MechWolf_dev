{
 "cells": [
  {
   "cell_type": "markdown",
   "metadata": {},
   "source": [
    "## INSERT TITLE HERE"
   ]
  },
  {
   "cell_type": "markdown",
   "metadata": {},
   "source": [
    "INSERT DATE AND NOTEBOOK PAGE NUMBER HERE"
   ]
  },
  {
   "cell_type": "markdown",
   "metadata": {},
   "source": [
    "### Creating a JSON data file for storing data "
   ]
  },
  {
   "cell_type": "code",
   "execution_count": null,
   "metadata": {},
   "outputs": [],
   "source": [
    "from mechwolf.DataEntry.GetNotebookName import get_notebook_json_name\n",
    "data_file = get_notebook_json_name()"
   ]
  },
  {
   "cell_type": "markdown",
   "metadata": {},
   "source": [
    "### Reagents and Stoichiometry Table"
   ]
  },
  {
   "cell_type": "code",
   "execution_count": null,
   "metadata": {},
   "outputs": [],
   "source": [
    "from mechwolf.DataEntry.ReagentEntry import ReagentInputForm\n",
    "app = ReagentInputForm(data_file)\n",
    "app.run()"
   ]
  },
  {
   "cell_type": "markdown",
   "metadata": {},
   "source": [
    "### Pump details"
   ]
  },
  {
   "cell_type": "code",
   "execution_count": null,
   "metadata": {},
   "outputs": [],
   "source": [
    "# YOU ONLY NEED TO RUN THIS CELL IF YOU WISH TO FIGURE OUT THE PORT IDs OR CONNECTIONS. OTHERWISE JUST SKIP!\n",
    "from mechwolf.DataEntry.SerialPortViewer import SerialPortViewer\n",
    "app = SerialPortViewer()\n",
    "app.run()"
   ]
  },
  {
   "cell_type": "code",
   "execution_count": null,
   "metadata": {},
   "outputs": [],
   "source": [
    "# WHATEVER SERIAL PORT ID YOU GOT FROM THE PREVIOUS CELL, INSERT IT HERE\n",
    "\n",
    "# 3 mL syringe = 10 mm ID       6 mL syringe = 12 mm ID        12 mL syringe = 16 mm ID\n",
    "\n",
    "from mechwolf.components.contrib.harvardpump import HarvardSyringePump\n",
    "pump_1 = HarvardSyringePump(\"3mL\", \"10mm\", serial_port = '/dev/ttyACM0')\n",
    "pump_2 = HarvardSyringePump(\"3mL\", \"10mm\", serial_port = '/dev/ttyACM1')"
   ]
  },
  {
   "cell_type": "markdown",
   "metadata": {},
   "source": [
    "### Apparatus Details- Vessels (syringes), Tubings, Mixers, and Coils"
   ]
  },
  {
   "attachments": {},
   "cell_type": "markdown",
   "metadata": {},
   "source": [
    "<Insert your scheme image here!>"
   ]
  },
  {
   "cell_type": "code",
   "execution_count": null,
   "metadata": {
    "scrolled": false
   },
   "outputs": [],
   "source": [
    "from mechwolf.DataEntry.FlowSetups.nSyringesToRxnMixVessel import ApparatusCreator\n",
    "apparatus_creator = ApparatusCreator(pump_1, pump_2, data_file = data_file)\n",
    "A = apparatus_creator.create_apparatus()"
   ]
  },
  {
   "cell_type": "code",
   "execution_count": null,
   "metadata": {},
   "outputs": [],
   "source": [
    "A.visualize()"
   ]
  },
  {
   "cell_type": "code",
   "execution_count": null,
   "metadata": {},
   "outputs": [],
   "source": [
    "A.describe()"
   ]
  },
  {
   "cell_type": "code",
   "execution_count": null,
   "metadata": {},
   "outputs": [],
   "source": [
    "A.summarize()"
   ]
  },
  {
   "cell_type": "markdown",
   "metadata": {},
   "source": [
    "### Automated Protocol"
   ]
  },
  {
   "cell_type": "code",
   "execution_count": null,
   "metadata": {},
   "outputs": [],
   "source": [
    "import mechwolf as mw\n",
    "from mechwolf.DataEntry.ProtocolDev.ProtocolNSyringes import ProtocolAlgorithm\n",
    "P = mw.Protocol(A)\n",
    "algorithm = ProtocolAlgorithm(P, pump_1, pump_2, data_file = data_file)\n",
    "P = algorithm.create_protocol()"
   ]
  },
  {
   "cell_type": "code",
   "execution_count": null,
   "metadata": {},
   "outputs": [],
   "source": [
    "P.visualize(renderer='default')"
   ]
  },
  {
   "cell_type": "code",
   "execution_count": null,
   "metadata": {},
   "outputs": [],
   "source": [
    "P.execute(dry_run=1000)"
   ]
  },
  {
   "cell_type": "markdown",
   "metadata": {},
   "source": [
    "### Observations and Notes From the Experiment"
   ]
  },
  {
   "cell_type": "markdown",
   "metadata": {},
   "source": [
    "<You can type/paste your observations and notes from the experiment here>"
   ]
  },
  {
   "cell_type": "markdown",
   "metadata": {},
   "source": [
    "### TLC Details"
   ]
  },
  {
   "cell_type": "code",
   "execution_count": null,
   "metadata": {},
   "outputs": [],
   "source": [
    "from mechwolf.DataEntry.TLCInputForm import TLCInputForm\n",
    "form = TLCInputForm()\n",
    "display(form.main_output)"
   ]
  },
  {
   "cell_type": "markdown",
   "metadata": {},
   "source": [
    "### Insert your TLC image here.\n",
    "#### Edit (form the top menu) ---> Insert Image "
   ]
  },
  {
   "cell_type": "markdown",
   "metadata": {},
   "source": [
    "### Insert your NMR image here.\n",
    "#### Edit (form the top menu) ---> Insert Image "
   ]
  },
  {
   "cell_type": "markdown",
   "metadata": {},
   "source": [
    "<You can type/paste your NMR details here>"
   ]
  },
  {
   "cell_type": "markdown",
   "metadata": {},
   "source": [
    "### Insert your mass spec image here.\n",
    "#### Edit (form the top menu) ---> Insert Image "
   ]
  },
  {
   "cell_type": "markdown",
   "metadata": {},
   "source": [
    "<You can type/paste your MS details here>"
   ]
  },
  {
   "cell_type": "markdown",
   "metadata": {},
   "source": [
    "### References"
   ]
  },
  {
   "cell_type": "markdown",
   "metadata": {},
   "source": [
    "<You can type/paste your references here. Adding a link to the reference would be helpful for quick access>"
   ]
  },
  {
   "cell_type": "markdown",
   "metadata": {},
   "source": [
    "# Copyright information"
   ]
  },
  {
   "cell_type": "markdown",
   "metadata": {},
   "source": [
    "Copyright © <2023> NICOLA POHL AND PRASHANT KUMAR\n",
    "\n",
    "Redistribution and use in source and binary forms, with or without modification, are permitted provided that the following conditions are met:\n",
    "\n",
    "1. Redistributions of source code must retain the above copyright notice, this list of conditions and the following disclaimer.\n",
    "\n",
    "2. Redistributions in binary form must reproduce the above copyright notice, this list of conditions and the following disclaimer in the documentation and/or other materials provided with the distribution.\n",
    "\n",
    "3. Neither the name of the copyright holder nor the names of its contributors may be used to endorse or promote products derived from this software without specific prior written permission.\n",
    "\n",
    "THIS SOFTWARE IS PROVIDED BY THE COPYRIGHT HOLDERS AND CONTRIBUTORS “AS IS” AND ANY EXPRESS OR IMPLIED WARRANTIES, INCLUDING, BUT NOT LIMITED TO, THE IMPLIED WARRANTIES OF MERCHANTABILITY AND FITNESS FOR A PARTICULAR PURPOSE ARE DISCLAIMED. IN NO EVENT SHALL THE COPYRIGHT HOLDER OR CONTRIBUTORS BE LIABLE FOR ANY DIRECT, INDIRECT, INCIDENTAL, SPECIAL, EXEMPLARY, OR CONSEQUENTIAL DAMAGES (INCLUDING, BUT NOT LIMITED TO, PROCUREMENT OF SUBSTITUTE GOODS OR SERVICES; LOSS OF USE, DATA, OR PROFITS; OR BUSINESS INTERRUPTION) HOWEVER CAUSED AND ON ANY THEORY OF LIABILITY, WHETHER IN CONTRACT, STRICT LIABILITY, OR TORT (INCLUDING NEGLIGENCE OR OTHERWISE) ARISING IN ANY WAY OUT OF THE USE OF THIS SOFTWARE, EVEN IF ADVISED OF THE POSSIBILITY OF SUCH DAMAGE.\n",
    "\n",
    "This code is based on Jupyter Notebooks.\n",
    "\n",
    "Kluyver, T., Ragan-Kelley, B., Pérez, F., Granger, B.E., Bussonnier, M., Frederic, J., Kelley, K., Hamrick, J.B., Grout, J., Corlay, S., Ivanov, P., Avila, D., Abdalla, S., Willing, C., & Team, J.D. (2016). Jupyter Notebooks - a publishing format for reproducible computational workflows. International Conference on Electronic Publishing.\n",
    "\n",
    "Yalamanchili, S.; Nguyen, T.; Zsikla, A.; Stamper, G.; DeYong, A. E.; Florek, J.; Vasquez, O.; Pohl, N. L. B.; Bennett, C. S. Automated, multistep Continuous‐Flow synthesis of 2,6‐Dideoxy and 3‐Amino‐2,3,6‐trideoxy monosaccharide building blocks. Angewandte Chemie International Edition 2021, 60 (43), 23171–23175. https://doi.org/10.1002/anie.202109887."
   ]
  }
 ],
 "metadata": {
  "kernelspec": {
   "display_name": "Python 3 (ipykernel)",
   "language": "python",
   "name": "python3"
  },
  "language_info": {
   "codemirror_mode": {
    "name": "ipython",
    "version": 3
   },
   "file_extension": ".py",
   "mimetype": "text/x-python",
   "name": "python",
   "nbconvert_exporter": "python",
   "pygments_lexer": "ipython3",
   "version": "3.7.1"
  }
 },
 "nbformat": 4,
 "nbformat_minor": 4
}
