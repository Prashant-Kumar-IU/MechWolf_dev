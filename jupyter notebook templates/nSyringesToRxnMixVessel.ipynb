{
 "cells": [
  {
   "cell_type": "markdown",
   "metadata": {},
   "source": [
    "## INSERT TITLE HERE"
   ]
  },
  {
   "cell_type": "markdown",
   "metadata": {},
   "source": [
    "INSERT DATE AND NOTEBOOK PAGE NUMBER HERE"
   ]
  },
  {
   "cell_type": "markdown",
   "metadata": {},
   "source": [
    "### Creating a JSON data file for storing data "
   ]
  },
  {
   "cell_type": "code",
   "execution_count": 1,
   "metadata": {},
   "outputs": [],
   "source": [
    "from mechwolf.DataEntry.GetNotebookName import get_notebook_json_name\n",
    "data_file = get_notebook_json_name()"
   ]
  },
  {
   "cell_type": "markdown",
   "metadata": {},
   "source": [
    "### Reagents and Stoichiometry Table"
   ]
  },
  {
   "cell_type": "code",
   "execution_count": null,
   "metadata": {},
   "outputs": [],
   "source": [
    "from mechwolf.DataEntry.ReagentEntry import ReagentInputForm\n",
    "app = ReagentInputForm(data_file)\n",
    "app.run()"
   ]
  },
  {
   "cell_type": "markdown",
   "metadata": {},
   "source": [
    "### Pump details"
   ]
  },
  {
   "cell_type": "code",
   "execution_count": null,
   "metadata": {},
   "outputs": [],
   "source": [
    "# YOU ONLY NEED TO RUN THIS CELL IF YOU WISH TO FIGURE OUT THE PORT IDs OR CONNECTIONS. OTHERWISE JUST SKIP!\n",
    "from mechwolf.DataEntry.SerialPortViewer import SerialPortViewer\n",
    "app = SerialPortViewer()\n",
    "app.run()"
   ]
  },
  {
   "cell_type": "code",
   "execution_count": null,
   "metadata": {},
   "outputs": [],
   "source": [
    "# WHATEVER SERIAL PORT ID YOU GOT FROM THE PREVIOUS CELL, INSERT IT HERE\n",
    "\n",
    "# 3 mL syringe = 10 mm ID       6 mL syringe = 12 mm ID        12 mL syringe = 16 mm ID\n",
    "\n",
    "# OPTION 1: HARVARD PUMP\n",
    "from mechwolf.components.contrib.harvardpump import HarvardSyringePump\n",
    "pump_1 = HarvardSyringePump(\"3mL\", \"10mm\", serial_port = '/dev/ttyACM0')\n",
    "pump_2 = HarvardSyringePump(\"3mL\", \"10mm\", serial_port = '/dev/ttyACM1')"
   ]
  },
  {
   "cell_type": "code",
   "execution_count": null,
   "metadata": {},
   "outputs": [],
   "source": [
    "#OPTION 2: FREESTEP PUMP (INTERACTIVE SELECTOR - JUPYTER ONLY)\n",
    "from mechwolf.components.contrib.freestep_pump import FreeStepPump\n",
    "\n",
    "# This will show a dropdown to select from available calibrated pumps.\n",
    "# Run this cell, select a pump, and then copy the generated MCU ID and Motor ID that you need for the next cell.\n",
    "\n",
    "FreeStepPump.select_interactive('COM3')  # Replace with your actual port"
   ]
  },
  {
   "cell_type": "code",
   "execution_count": 2,
   "metadata": {},
   "outputs": [],
   "source": [
    "# Replace serial_port, mcu_id and motor_id with your actual values from the previous cells.\n",
    "from mechwolf.components.contrib.freestep_pump import FreeStepPump\n",
    "pump_1 = FreeStepPump(serial_port='COM3', mcu_id='28ug3n2fe', motor_id='mky2yd0lc', syringe_volume='3 mL', syringe_diameter='10 mm')"
   ]
  },
  {
   "cell_type": "markdown",
   "metadata": {},
   "source": [
    "### Apparatus Details- Vessels (syringes), Tubings, Mixers, and Coils"
   ]
  },
  {
   "cell_type": "markdown",
   "metadata": {},
   "source": [
    "<Insert your scheme image here!>"
   ]
  },
  {
   "cell_type": "code",
   "execution_count": 3,
   "metadata": {},
   "outputs": [
    {
     "name": "stdout",
     "output_type": "stream",
     "text": [
      "Configuration saved successfully!\n",
      "Using configuration: Test\n"
     ]
    }
   ],
   "source": [
    "from mechwolf.DataEntry.FlowSetups.nSyringesToRxnMixVessel import ApparatusCreator\n",
    "apparatus_creator = ApparatusCreator(pump_1, data_file = data_file)\n",
    "A = apparatus_creator.create_apparatus()"
   ]
  },
  {
   "cell_type": "code",
   "execution_count": null,
   "metadata": {},
   "outputs": [],
   "source": [
    "A.visualize()"
   ]
  },
  {
   "cell_type": "code",
   "execution_count": null,
   "metadata": {},
   "outputs": [],
   "source": [
    "A.describe()"
   ]
  },
  {
   "cell_type": "code",
   "execution_count": null,
   "metadata": {},
   "outputs": [],
   "source": [
    "A.summarize()"
   ]
  },
  {
   "cell_type": "markdown",
   "metadata": {},
   "source": [
    "### Automated Protocol"
   ]
  },
  {
   "cell_type": "code",
   "execution_count": 4,
   "metadata": {},
   "outputs": [
    {
     "name": "stdout",
     "output_type": "stream",
     "text": [
      "\n",
      "==================================================\n",
      "          Protocol Configuration Summary          \n",
      "==================================================\n",
      "\n",
      "     Pump 0 → Reagent\n",
      "     Flow Rate: 3.000001 mL/min\n",
      "     Volume: 3.0 mL\n",
      "     Delay: 0.0 s\n",
      "     Active Time: 60.0 s\n",
      "--------------------------------------------------\n",
      "                \n",
      "Total entries: 1                 \n",
      "TOTAL TIME: 0:00:59.999980\n"
     ]
    }
   ],
   "source": [
    "import mechwolf as mw\n",
    "from mechwolf.DataEntry.ProtocolDev.ProtocolNSyringes import ProtocolAlgorithm\n",
    "P = mw.Protocol(A)\n",
    "algorithm = ProtocolAlgorithm(P, pump_1, data_file = data_file)\n",
    "P = algorithm.create_protocol()"
   ]
  },
  {
   "cell_type": "code",
   "execution_count": null,
   "metadata": {},
   "outputs": [],
   "source": [
    "P.visualize(renderer='default')"
   ]
  },
  {
   "cell_type": "code",
   "execution_count": null,
   "metadata": {},
   "outputs": [],
   "source": [
    "P.execute(dry_run=1000)"
   ]
  },
  {
   "cell_type": "code",
   "execution_count": 5,
   "metadata": {},
   "outputs": [
    {
     "name": "stdout",
     "output_type": "stream",
     "text": [
      "Execute? [y/N]: y\n",
      "Opened port COM3 at 9600 baud\n",
      "Saved motors to C:\\Users\\kumar\\MechWolf_dev\\mechwolf\\components\\contrib\\motors.json\n"
     ]
    },
    {
     "ename": "RuntimeError",
     "evalue": "FreeStepPump FreeStepPump_3 isn't valid. Got error: ''SerialManager' object has no attribute 'is_port_open''.",
     "output_type": "error",
     "traceback": [
      "\u001b[1;31m---------------------------------------------------------------------------\u001b[0m",
      "\u001b[1;31mAttributeError\u001b[0m                            Traceback (most recent call last)",
      "\u001b[1;32m~\\MechWolf_dev\\mechwolf\\core\\protocol.py\u001b[0m in \u001b[0;36m_compile\u001b[1;34m(self, dry_run, _visualization)\u001b[0m\n\u001b[0;32m    313\u001b[0m             \u001b[1;32mtry\u001b[0m\u001b[1;33m:\u001b[0m\u001b[1;33m\u001b[0m\u001b[1;33m\u001b[0m\u001b[0m\n\u001b[1;32m--> 314\u001b[1;33m                 \u001b[0mcomponent\u001b[0m\u001b[1;33m.\u001b[0m\u001b[0m_validate\u001b[0m\u001b[1;33m(\u001b[0m\u001b[0mdry_run\u001b[0m\u001b[1;33m=\u001b[0m\u001b[0mdry_run\u001b[0m\u001b[1;33m)\u001b[0m\u001b[1;33m\u001b[0m\u001b[1;33m\u001b[0m\u001b[0m\n\u001b[0m\u001b[0;32m    315\u001b[0m             \u001b[1;32mexcept\u001b[0m \u001b[0mException\u001b[0m \u001b[1;32mas\u001b[0m \u001b[0me\u001b[0m\u001b[1;33m:\u001b[0m\u001b[1;33m\u001b[0m\u001b[1;33m\u001b[0m\u001b[0m\n",
      "\u001b[1;32m~\\MechWolf_dev\\mechwolf\\components\\stdlib\\active_component.py\u001b[0m in \u001b[0;36m_validate\u001b[1;34m(self, dry_run)\u001b[0m\n\u001b[0;32m    108\u001b[0m             \u001b[0mlogger\u001b[0m\u001b[1;33m.\u001b[0m\u001b[0mtrace\u001b[0m\u001b[1;33m(\u001b[0m\u001b[1;34mf\"Attempting to call _update() for {repr(self)}.\"\u001b[0m\u001b[1;33m)\u001b[0m\u001b[1;33m\u001b[0m\u001b[1;33m\u001b[0m\u001b[0m\n\u001b[1;32m--> 109\u001b[1;33m             \u001b[1;32mwith\u001b[0m \u001b[0mself\u001b[0m\u001b[1;33m:\u001b[0m\u001b[1;33m\u001b[0m\u001b[1;33m\u001b[0m\u001b[0m\n\u001b[0m\u001b[0;32m    110\u001b[0m                 \u001b[0mres\u001b[0m \u001b[1;33m=\u001b[0m \u001b[0masyncio\u001b[0m\u001b[1;33m.\u001b[0m\u001b[0mrun\u001b[0m\u001b[1;33m(\u001b[0m\u001b[0mself\u001b[0m\u001b[1;33m.\u001b[0m\u001b[0m_update\u001b[0m\u001b[1;33m(\u001b[0m\u001b[1;33m)\u001b[0m\u001b[1;33m)\u001b[0m\u001b[1;33m\u001b[0m\u001b[1;33m\u001b[0m\u001b[0m\n",
      "\u001b[1;32m~\\MechWolf_dev\\mechwolf\\components\\contrib\\freestep_pump.py\u001b[0m in \u001b[0;36m__enter__\u001b[1;34m(self)\u001b[0m\n\u001b[0;32m    308\u001b[0m         \u001b[1;31m# Reconnect to the serial port as it might have been closed by update_motor\u001b[0m\u001b[1;33m\u001b[0m\u001b[1;33m\u001b[0m\u001b[1;33m\u001b[0m\u001b[0m\n\u001b[1;32m--> 309\u001b[1;33m         \u001b[1;32mif\u001b[0m \u001b[1;32mnot\u001b[0m \u001b[0mself\u001b[0m\u001b[1;33m.\u001b[0m\u001b[0m_controller\u001b[0m\u001b[1;33m.\u001b[0m\u001b[0mserial_manager\u001b[0m\u001b[1;33m.\u001b[0m\u001b[0mis_port_open\u001b[0m\u001b[1;33m(\u001b[0m\u001b[0mself\u001b[0m\u001b[1;33m.\u001b[0m\u001b[0mserial_port\u001b[0m\u001b[1;33m)\u001b[0m\u001b[1;33m:\u001b[0m\u001b[1;33m\u001b[0m\u001b[1;33m\u001b[0m\u001b[0m\n\u001b[0m\u001b[0;32m    310\u001b[0m             \u001b[0mprint\u001b[0m\u001b[1;33m(\u001b[0m\u001b[1;34mf\"Reconnecting to {self.serial_port} after profile update...\"\u001b[0m\u001b[1;33m)\u001b[0m\u001b[1;33m\u001b[0m\u001b[1;33m\u001b[0m\u001b[0m\n",
      "\u001b[1;31mAttributeError\u001b[0m: 'SerialManager' object has no attribute 'is_port_open'",
      "\nDuring handling of the above exception, another exception occurred:\n",
      "\u001b[1;31mRuntimeError\u001b[0m                              Traceback (most recent call last)",
      "\u001b[1;32m~\\AppData\\Local\\Temp\\ipykernel_6820\\771821168.py\u001b[0m in \u001b[0;36m<module>\u001b[1;34m\u001b[0m\n\u001b[1;32m----> 1\u001b[1;33m \u001b[0mP\u001b[0m\u001b[1;33m.\u001b[0m\u001b[0mexecute\u001b[0m\u001b[1;33m(\u001b[0m\u001b[1;33m)\u001b[0m\u001b[1;33m\u001b[0m\u001b[1;33m\u001b[0m\u001b[0m\n\u001b[0m",
      "\u001b[1;32m~\\MechWolf_dev\\mechwolf\\core\\protocol.py\u001b[0m in \u001b[0;36mexecute\u001b[1;34m(self, dry_run, verbosity, confirm, strict, log_file, log_file_verbosity, log_file_compression, data_file)\u001b[0m\n\u001b[0;32m    575\u001b[0m             \u001b[0mlog_file_verbosity\u001b[0m\u001b[1;33m=\u001b[0m\u001b[0mlog_file_verbosity\u001b[0m\u001b[1;33m,\u001b[0m\u001b[1;33m\u001b[0m\u001b[1;33m\u001b[0m\u001b[0m\n\u001b[0;32m    576\u001b[0m             \u001b[0mlog_file_compression\u001b[0m\u001b[1;33m=\u001b[0m\u001b[0mlog_file_compression\u001b[0m\u001b[1;33m,\u001b[0m\u001b[1;33m\u001b[0m\u001b[1;33m\u001b[0m\u001b[0m\n\u001b[1;32m--> 577\u001b[1;33m             \u001b[0mdata_file\u001b[0m\u001b[1;33m=\u001b[0m\u001b[0mdata_file\u001b[0m\u001b[1;33m,\u001b[0m\u001b[1;33m\u001b[0m\u001b[1;33m\u001b[0m\u001b[0m\n\u001b[0m\u001b[0;32m    578\u001b[0m         )\n\u001b[0;32m    579\u001b[0m \u001b[1;33m\u001b[0m\u001b[0m\n",
      "\u001b[1;32m~\\MechWolf_dev\\mechwolf\\core\\experiment.py\u001b[0m in \u001b[0;36m_execute\u001b[1;34m(self, dry_run, verbosity, confirm, strict, log_file, log_file_verbosity, log_file_compression, data_file)\u001b[0m\n\u001b[0;32m    206\u001b[0m                 \u001b[1;32mraise\u001b[0m \u001b[0mRuntimeError\u001b[0m\u001b[1;33m(\u001b[0m\u001b[1;34m\"Execution aborted by user.\"\u001b[0m\u001b[1;33m)\u001b[0m\u001b[1;33m\u001b[0m\u001b[1;33m\u001b[0m\u001b[0m\n\u001b[0;32m    207\u001b[0m \u001b[1;33m\u001b[0m\u001b[0m\n\u001b[1;32m--> 208\u001b[1;33m         \u001b[0mself\u001b[0m\u001b[1;33m.\u001b[0m\u001b[0m_compiled_protocol\u001b[0m \u001b[1;33m=\u001b[0m \u001b[0mself\u001b[0m\u001b[1;33m.\u001b[0m\u001b[0mprotocol\u001b[0m\u001b[1;33m.\u001b[0m\u001b[0m_compile\u001b[0m\u001b[1;33m(\u001b[0m\u001b[0mdry_run\u001b[0m\u001b[1;33m=\u001b[0m\u001b[0mbool\u001b[0m\u001b[1;33m(\u001b[0m\u001b[0mdry_run\u001b[0m\u001b[1;33m)\u001b[0m\u001b[1;33m)\u001b[0m\u001b[1;33m\u001b[0m\u001b[1;33m\u001b[0m\u001b[0m\n\u001b[0m\u001b[0;32m    209\u001b[0m \u001b[1;33m\u001b[0m\u001b[0m\n\u001b[0;32m    210\u001b[0m         \u001b[1;31m# now that we're ready to start, create the time and ID attributes\u001b[0m\u001b[1;33m\u001b[0m\u001b[1;33m\u001b[0m\u001b[1;33m\u001b[0m\u001b[0m\n",
      "\u001b[1;32m~\\MechWolf_dev\\mechwolf\\core\\protocol.py\u001b[0m in \u001b[0;36m_compile\u001b[1;34m(self, dry_run, _visualization)\u001b[0m\n\u001b[0;32m    314\u001b[0m                 \u001b[0mcomponent\u001b[0m\u001b[1;33m.\u001b[0m\u001b[0m_validate\u001b[0m\u001b[1;33m(\u001b[0m\u001b[0mdry_run\u001b[0m\u001b[1;33m=\u001b[0m\u001b[0mdry_run\u001b[0m\u001b[1;33m)\u001b[0m\u001b[1;33m\u001b[0m\u001b[1;33m\u001b[0m\u001b[0m\n\u001b[0;32m    315\u001b[0m             \u001b[1;32mexcept\u001b[0m \u001b[0mException\u001b[0m \u001b[1;32mas\u001b[0m \u001b[0me\u001b[0m\u001b[1;33m:\u001b[0m\u001b[1;33m\u001b[0m\u001b[1;33m\u001b[0m\u001b[0m\n\u001b[1;32m--> 316\u001b[1;33m                 \u001b[1;32mraise\u001b[0m \u001b[0mRuntimeError\u001b[0m\u001b[1;33m(\u001b[0m\u001b[1;34mf\"{component} isn't valid. Got error: '{str(e)}'.\"\u001b[0m\u001b[1;33m)\u001b[0m\u001b[1;33m\u001b[0m\u001b[1;33m\u001b[0m\u001b[0m\n\u001b[0m\u001b[0;32m    317\u001b[0m \u001b[1;33m\u001b[0m\u001b[0m\n\u001b[0;32m    318\u001b[0m             \u001b[1;31m# check for conflicting continuous procedures\u001b[0m\u001b[1;33m\u001b[0m\u001b[1;33m\u001b[0m\u001b[1;33m\u001b[0m\u001b[0m\n",
      "\u001b[1;31mRuntimeError\u001b[0m: FreeStepPump FreeStepPump_3 isn't valid. Got error: ''SerialManager' object has no attribute 'is_port_open''."
     ]
    }
   ],
   "source": [
    "P.execute()"
   ]
  },
  {
   "cell_type": "markdown",
   "metadata": {},
   "source": [
    "### Observations and Notes From the Experiment"
   ]
  },
  {
   "cell_type": "markdown",
   "metadata": {},
   "source": [
    "<You can type/paste your observations and notes from the experiment here>"
   ]
  },
  {
   "cell_type": "markdown",
   "metadata": {},
   "source": [
    "### TLC Details"
   ]
  },
  {
   "cell_type": "code",
   "execution_count": null,
   "metadata": {},
   "outputs": [],
   "source": [
    "from mechwolf.DataEntry.TLCInputForm import TLCInputForm\n",
    "form = TLCInputForm()\n",
    "display(form.main_output)"
   ]
  },
  {
   "cell_type": "markdown",
   "metadata": {},
   "source": [
    "### Insert your TLC image here.\n",
    "#### Edit (form the top menu) ---> Insert Image "
   ]
  },
  {
   "cell_type": "markdown",
   "metadata": {},
   "source": [
    "### Insert your NMR image here.\n",
    "#### Edit (form the top menu) ---> Insert Image "
   ]
  },
  {
   "cell_type": "markdown",
   "metadata": {},
   "source": [
    "<You can type/paste your NMR details here>"
   ]
  },
  {
   "cell_type": "markdown",
   "metadata": {},
   "source": [
    "### Insert your mass spec image here.\n",
    "#### Edit (form the top menu) ---> Insert Image "
   ]
  },
  {
   "cell_type": "markdown",
   "metadata": {},
   "source": [
    "<You can type/paste your MS details here>"
   ]
  },
  {
   "cell_type": "markdown",
   "metadata": {},
   "source": [
    "### References"
   ]
  },
  {
   "cell_type": "markdown",
   "metadata": {},
   "source": [
    "<You can type/paste your references here. Adding a link to the reference would be helpful for quick access>"
   ]
  },
  {
   "cell_type": "markdown",
   "metadata": {},
   "source": [
    "# Copyright information"
   ]
  },
  {
   "cell_type": "markdown",
   "metadata": {},
   "source": [
    "Copyright © <2023> NICOLA POHL AND PRASHANT KUMAR\n",
    "\n",
    "Redistribution and use in source and binary forms, with or without modification, are permitted provided that the following conditions are met:\n",
    "\n",
    "1. Redistributions of source code must retain the above copyright notice, this list of conditions and the following disclaimer.\n",
    "\n",
    "2. Redistributions in binary form must reproduce the above copyright notice, this list of conditions and the following disclaimer in the documentation and/or other materials provided with the distribution.\n",
    "\n",
    "3. Neither the name of the copyright holder nor the names of its contributors may be used to endorse or promote products derived from this software without specific prior written permission.\n",
    "\n",
    "THIS SOFTWARE IS PROVIDED BY THE COPYRIGHT HOLDERS AND CONTRIBUTORS “AS IS” AND ANY EXPRESS OR IMPLIED WARRANTIES, INCLUDING, BUT NOT LIMITED TO, THE IMPLIED WARRANTIES OF MERCHANTABILITY AND FITNESS FOR A PARTICULAR PURPOSE ARE DISCLAIMED. IN NO EVENT SHALL THE COPYRIGHT HOLDER OR CONTRIBUTORS BE LIABLE FOR ANY DIRECT, INDIRECT, INCIDENTAL, SPECIAL, EXEMPLARY, OR CONSEQUENTIAL DAMAGES (INCLUDING, BUT NOT LIMITED TO, PROCUREMENT OF SUBSTITUTE GOODS OR SERVICES; LOSS OF USE, DATA, OR PROFITS; OR BUSINESS INTERRUPTION) HOWEVER CAUSED AND ON ANY THEORY OF LIABILITY, WHETHER IN CONTRACT, STRICT LIABILITY, OR TORT (INCLUDING NEGLIGENCE OR OTHERWISE) ARISING IN ANY WAY OUT OF THE USE OF THIS SOFTWARE, EVEN IF ADVISED OF THE POSSIBILITY OF SUCH DAMAGE.\n",
    "\n",
    "This code is based on Jupyter Notebooks.\n",
    "\n",
    "Kluyver, T., Ragan-Kelley, B., Pérez, F., Granger, B.E., Bussonnier, M., Frederic, J., Kelley, K., Hamrick, J.B., Grout, J., Corlay, S., Ivanov, P., Avila, D., Abdalla, S., Willing, C., & Team, J.D. (2016). Jupyter Notebooks - a publishing format for reproducible computational workflows. International Conference on Electronic Publishing.\n",
    "\n",
    "Yalamanchili, S.; Nguyen, T.; Zsikla, A.; Stamper, G.; DeYong, A. E.; Florek, J.; Vasquez, O.; Pohl, N. L. B.; Bennett, C. S. Automated, multistep Continuous‐Flow synthesis of 2,6‐Dideoxy and 3‐Amino‐2,3,6‐trideoxy monosaccharide building blocks. Angewandte Chemie International Edition 2021, 60 (43), 23171–23175. https://doi.org/10.1002/anie.202109887."
   ]
  }
 ],
 "metadata": {
  "kernelspec": {
   "display_name": "Python [conda env:mechwolf_env] *",
   "language": "python",
   "name": "conda-env-mechwolf_env-py"
  },
  "language_info": {
   "codemirror_mode": {
    "name": "ipython",
    "version": 3
   },
   "file_extension": ".py",
   "mimetype": "text/x-python",
   "name": "python",
   "nbconvert_exporter": "python",
   "pygments_lexer": "ipython3",
   "version": "3.7.1"
  }
 },
 "nbformat": 4,
 "nbformat_minor": 4
}
