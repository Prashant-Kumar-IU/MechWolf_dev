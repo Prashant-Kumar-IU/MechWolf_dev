{
 "cells": [
  {
   "cell_type": "markdown",
   "id": "56bf46bf",
   "metadata": {},
   "source": [
    "# MechWolf Pump Code Generator\n",
    "\n",
    "This notebook demonstrates how to use the Pump Code Generator to configure pumps and generate initialization code."
   ]
  },
  {
   "cell_type": "code",
   "execution_count": null,
   "id": "f3fca78c",
   "metadata": {},
   "outputs": [],
   "source": [
    "# Import the necessary modules\n",
    "import sys\n",
    "import os\n",
    "from pathlib import Path\n",
    "\n",
    "# Add the MechWolf directory to the path if needed\n",
    "mechwolf_path = Path.home() / \"MechWolf_dev\"\n",
    "if mechwolf_path.exists() and str(mechwolf_path) not in sys.path:\n",
    "    sys.path.append(str(mechwolf_path))\n",
    "\n",
    "# Import the pump code generator\n",
    "from mechwolf.DataEntry.pump_setup_jupyter import PumpCodeGenerator"
   ]
  },
  {
   "cell_type": "code",
   "execution_count": null,
   "id": "9fac20ce",
   "metadata": {},
   "outputs": [],
   "source": [
    "# Create and display the pump code generator\n",
    "generator = PumpCodeGenerator()"
   ]
  },
  {
   "cell_type": "markdown",
   "id": "3bba38f5",
   "metadata": {},
   "source": [
    "## How to Use the Code Generator\n",
    "\n",
    "1. Select a pump type from the dropdown menu\n",
    "2. Enter the required parameters for that pump type\n",
    "3. Click \"Add Pump\" to add the pump to your configuration\n",
    "4. Repeat steps 1-3 for each pump you want to add\n",
    "5. Click \"Generate Code\" to see the Python code that initializes your pumps\n",
    "6. You can remove individual pumps or clear all pumps using the buttons provided\n",
    "\n",
    "### Serial Port Detection\n",
    "\n",
    "To help with finding available serial ports for your pumps:\n",
    "1. Click the \"Show Available Serial Ports\" button to scan for connected devices\n",
    "2. The detected serial ports will be displayed below the button\n",
    "3. Copy the appropriate port name to the Serial Port field\n",
    "\n",
    "The generated code can be copied and used in your MechWolf protocols."
   ]
  },
  {
   "cell_type": "markdown",
   "id": "29e2ead9",
   "metadata": {},
   "source": [
    "## Example Configurations\n",
    "\n",
    "Here are some example configurations for different pump types:\n",
    "\n",
    "### Harvard Syringe Pump:\n",
    "- Serial Port: COM1 or /dev/ttyACM0\n",
    "- Syringe Volume: 3 mL\n",
    "- Syringe Diameter: 10 mm\n",
    "\n",
    "### FreeStep Pump:\n",
    "- Serial Port: COM3\n",
    "- Syringe Volume: 1 mL\n",
    "- Syringe Diameter: 2 mm\n",
    "- MCU ID: 28ug3n2fe\n",
    "- Motor ID: mky2yd0lc\n",
    "\n",
    "### Varian Pump:\n",
    "- Serial Port: COM4\n",
    "- Max Rate: 5 ml/min\n",
    "- Unit ID: 0\n",
    "\n",
    "### Vici Pump:\n",
    "- Serial Port: COM5\n",
    "- Volume per Revolution: 0.1 ml\n",
    "\n",
    "Note: Use the \"Show Available Serial Ports\" button to identify the correct serial port for your connected devices."
   ]
  },
  {
   "cell_type": "code",
   "execution_count": null,
   "id": "c0a5bc01",
   "metadata": {},
   "outputs": [],
   "source": []
  }
 ],
 "metadata": {
  "kernelspec": {
   "display_name": "Python [conda env:mechwolf_env] *",
   "language": "python",
   "name": "conda-env-mechwolf_env-py"
  },
  "language_info": {
   "codemirror_mode": {
    "name": "ipython",
    "version": 3
   },
   "file_extension": ".py",
   "mimetype": "text/x-python",
   "name": "python",
   "nbconvert_exporter": "python",
   "pygments_lexer": "ipython3",
   "version": "3.7.1"
  }
 },
 "nbformat": 4,
 "nbformat_minor": 5
}
